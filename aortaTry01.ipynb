{
  "nbformat": 4,
  "nbformat_minor": 0,
  "metadata": {
    "colab": {
      "provenance": [],
      "gpuType": "T4",
      "mount_file_id": "https://github.com/yulee-research/ImageGraph/blob/Try01/aortaTry01.ipynb",
      "authorship_tag": "ABX9TyPfLAXVRADt7bt5zzJjRH2b",
      "include_colab_link": true
    },
    "kernelspec": {
      "name": "python3",
      "display_name": "Python 3"
    },
    "language_info": {
      "name": "python"
    },
    "accelerator": "GPU"
  },
  "cells": [
    {
      "cell_type": "markdown",
      "metadata": {
        "id": "view-in-github",
        "colab_type": "text"
      },
      "source": [
        "<a href=\"https://colab.research.google.com/github/yulee-research/ImageGraph/blob/Try01/aortaTry01.ipynb\" target=\"_parent\"><img src=\"https://colab.research.google.com/assets/colab-badge.svg\" alt=\"Open In Colab\"/></a>"
      ]
    },
    {
      "cell_type": "code",
      "execution_count": 3,
      "metadata": {
        "colab": {
          "base_uri": "https://localhost:8080/",
          "height": 500
        },
        "id": "0bLbRJlQeaav",
        "outputId": "e88cb2e6-c0da-43a1-9593-194163088ffc"
      },
      "outputs": [
        {
          "output_type": "stream",
          "name": "stdout",
          "text": [
            "[<tf.Tensor: shape=(3,), dtype=int32, numpy=array([300,   8,   8], dtype=int32)>, <tf.Tensor: shape=(3,), dtype=int32, numpy=array([300,   8,   8], dtype=int32)>]\n",
            "[<tf.Tensor: shape=(3,), dtype=int32, numpy=array([300,   8,   8], dtype=int32)>, <tf.Tensor: shape=(3,), dtype=int32, numpy=array([300,   8,   8], dtype=int32)>]\n",
            "[<tf.Tensor: shape=(3,), dtype=int32, numpy=array([300,   8,   8], dtype=int32)>, <tf.Tensor: shape=(3,), dtype=int32, numpy=array([300,   8,   8], dtype=int32)>]\n",
            "[<tf.Tensor: shape=(3,), dtype=int32, numpy=array([300,   8,   8], dtype=int32)>, <tf.Tensor: shape=(3,), dtype=int32, numpy=array([300,   8,   8], dtype=int32)>]\n",
            "[<tf.Tensor: shape=(3,), dtype=int32, numpy=array([300,   8,   8], dtype=int32)>, <tf.Tensor: shape=(3,), dtype=int32, numpy=array([300,   8,   8], dtype=int32)>]\n",
            "[<tf.Tensor: shape=(3,), dtype=int32, numpy=array([300,   8,   8], dtype=int32)>, <tf.Tensor: shape=(3,), dtype=int32, numpy=array([300,   8,   8], dtype=int32)>]\n",
            "[<tf.Tensor: shape=(3,), dtype=int32, numpy=array([300,   8,   8], dtype=int32)>, <tf.Tensor: shape=(3,), dtype=int32, numpy=array([300,   8,   8], dtype=int32)>]\n",
            "[<tf.Tensor: shape=(3,), dtype=int32, numpy=array([300,   8,   8], dtype=int32)>, <tf.Tensor: shape=(3,), dtype=int32, numpy=array([300,   8,   8], dtype=int32)>]\n",
            "[<tf.Tensor: shape=(3,), dtype=int32, numpy=array([300,   8,   8], dtype=int32)>, <tf.Tensor: shape=(3,), dtype=int32, numpy=array([300,   8,   8], dtype=int32)>]\n",
            "[<tf.Tensor: shape=(3,), dtype=int32, numpy=array([300,   8,   8], dtype=int32)>, <tf.Tensor: shape=(3,), dtype=int32, numpy=array([300,   8,   8], dtype=int32)>]\n",
            "[<tf.Tensor: shape=(3,), dtype=int32, numpy=array([136,   8,   8], dtype=int32)>, <tf.Tensor: shape=(3,), dtype=int32, numpy=array([136,   8,   8], dtype=int32)>]\n"
          ]
        },
        {
          "output_type": "display_data",
          "data": {
            "text/plain": [
              "<Figure size 640x480 with 2 Axes>"
            ],
            "image/png": "[encoded data removed]"
          },
          "metadata": {}
        }
      ],
      "source": [
        "from scipy.io import loadmat\n",
        "import matplotlib.pyplot as plt\n",
        "import numpy as np\n",
        "import tensorflow as tf\n",
        "\n",
        "trainData=loadmat('/content/drive/MyDrive/ImageGraph/aortaMag1Ph10Pt150.mat')\n",
        "ImgC1=np.array(trainData['roiMagC'],dtype=np.float32)\n",
        "ImgM1=np.sum(np.array(trainData['roiMask'],dtype=np.float32),axis=2)\n",
        "fig, (ax1,ax2)=plt.subplots(1,2)\n",
        "ax1.imshow(ImgC1)\n",
        "ax2.imshow(ImgM1)\n",
        "\n",
        "# Divide the images into multiple patches\n",
        "\n",
        "nrow,ncol=ImgC1.shape\n",
        "nxpatch,nypatch=(8,8)\n",
        "trainImgC=tf.convert_to_tensor(np.array([ImgC1[i:i+nypatch,j:j+nypatch] for i in range(nrow-nxpatch) for j in range(ncol-nypatch)]))\n",
        "trainImgM=tf.convert_to_tensor(np.array([ImgM1[i:i+nypatch,j:j+nypatch] for i in range(nrow-nxpatch) for j in range(ncol-nypatch)]))\n",
        "\n",
        "train_ds=tf.data.Dataset.from_tensor_slices((trainImgC,trainImgM)).shuffle(600).batch(300)\n",
        "\n",
        "# print(patchImgC.shape)\n",
        "# print(patchImgM.shape)\n",
        "# fig,(ax1,ax2)=plt.subplots(1,2)\n",
        "# ax1.imshow(patchImgC[:16,:,:].transpose((1,0,2)).reshape((nxpatch*1,nypatch*16)))\n",
        "# ax2.imshow(patchImgM[:16,:,:].transpose((1,0,2)).reshape((nxpatch*1,nypatch*16)))\n",
        "\n",
        "for images,labels in train_ds:\n",
        "  print([tf.shape(images),tf.shape(labels)])"
      ]
    },
    {
      "cell_type": "code",
      "source": [
        "testData=loadmat('/content/drive/MyDrive/ImageGraph/aortaMag1Ph10Pt151.mat')\n",
        "ImgC2=np.array(testData['roiMagC'],dtype=np.float32)\n",
        "ImgM2=np.sum(np.array(testData['roiMask'],dtype=np.float32),axis=2)\n",
        "fig, (ax1,ax2)=plt.subplots(1,2)\n",
        "ax1.imshow(ImgC2)\n",
        "ax2.imshow(ImgM2)\n",
        "\n",
        "# Divide the images into multiple patches\n",
        "\n",
        "nrow,ncol=ImgC2.shape\n",
        "nxpatch,nypatch=(8,8)\n",
        "testImgC=tf.convert_to_tensor(np.array([ImgC2[i:i+nypatch,j:j+nypatch] for i in range(nrow-nxpatch) for j in range(ncol-nypatch)]))\n",
        "testImgM=tf.convert_to_tensor(np.array([ImgM2[i:i+nypatch,j:j+nypatch] for i in range(nrow-nxpatch) for j in range(ncol-nypatch)]))\n",
        "test_ds=tf.data.Dataset.from_tensor_slices((testImgC,testImgM)).batch(300)"
      ],
      "metadata": {
        "id": "l_SuY4XLEKaY",
        "outputId": "1a50b62b-0705-4aa9-ccd8-dd4fb78ce4e7",
        "colab": {
          "base_uri": "https://localhost:8080/",
          "height": 356
        }
      },
      "execution_count": 7,
      "outputs": [
        {
          "output_type": "error",
          "ename": "NotImplementedError",
          "evalue": "Please use HDF reader for matlab v7.3 files, e.g. h5py",
          "traceback": [
            "\u001b[0;31m---------------------------------------------------------------------------\u001b[0m",
            "\u001b[0;31mNotImplementedError\u001b[0m                       Traceback (most recent call last)",
            "\u001b[0;32m<ipython-input-7-8f1355d2a195>\u001b[0m in \u001b[0;36m<cell line: 1>\u001b[0;34m()\u001b[0m\n\u001b[0;32m----> 1\u001b[0;31m \u001b[0mtestData\u001b[0m\u001b[0;34m=\u001b[0m\u001b[0mloadmat\u001b[0m\u001b[0;34m(\u001b[0m\u001b[0;34m'/content/drive/MyDrive/ImageGraph/aortaMag1Ph10Pt151.mat'\u001b[0m\u001b[0;34m)\u001b[0m\u001b[0;34m\u001b[0m\u001b[0;34m\u001b[0m\u001b[0m\n\u001b[0m\u001b[1;32m      2\u001b[0m \u001b[0mImgC2\u001b[0m\u001b[0;34m=\u001b[0m\u001b[0mnp\u001b[0m\u001b[0;34m.\u001b[0m\u001b[0marray\u001b[0m\u001b[0;34m(\u001b[0m\u001b[0mtestData\u001b[0m\u001b[0;34m[\u001b[0m\u001b[0;34m'roiMagC'\u001b[0m\u001b[0;34m]\u001b[0m\u001b[0;34m,\u001b[0m\u001b[0mdtype\u001b[0m\u001b[0;34m=\u001b[0m\u001b[0mnp\u001b[0m\u001b[0;34m.\u001b[0m\u001b[0mfloat32\u001b[0m\u001b[0;34m)\u001b[0m\u001b[0;34m\u001b[0m\u001b[0;34m\u001b[0m\u001b[0m\n\u001b[1;32m      3\u001b[0m \u001b[0mImgM2\u001b[0m\u001b[0;34m=\u001b[0m\u001b[0mnp\u001b[0m\u001b[0;34m.\u001b[0m\u001b[0msum\u001b[0m\u001b[0;34m(\u001b[0m\u001b[0mnp\u001b[0m\u001b[0;34m.\u001b[0m\u001b[0marray\u001b[0m\u001b[0;34m(\u001b[0m\u001b[0mtestData\u001b[0m\u001b[0;34m[\u001b[0m\u001b[0;34m'roiMask'\u001b[0m\u001b[0;34m]\u001b[0m\u001b[0;34m,\u001b[0m\u001b[0mdtype\u001b[0m\u001b[0;34m=\u001b[0m\u001b[0mnp\u001b[0m\u001b[0;34m.\u001b[0m\u001b[0mfloat32\u001b[0m\u001b[0;34m)\u001b[0m\u001b[0;34m,\u001b[0m\u001b[0maxis\u001b[0m\u001b[0;34m=\u001b[0m\u001b[0;36m2\u001b[0m\u001b[0;34m)\u001b[0m\u001b[0;34m\u001b[0m\u001b[0;34m\u001b[0m\u001b[0m\n\u001b[1;32m      4\u001b[0m \u001b[0mfig\u001b[0m\u001b[0;34m,\u001b[0m \u001b[0;34m(\u001b[0m\u001b[0max1\u001b[0m\u001b[0;34m,\u001b[0m\u001b[0max2\u001b[0m\u001b[0;34m)\u001b[0m\u001b[0;34m=\u001b[0m\u001b[0mplt\u001b[0m\u001b[0;34m.\u001b[0m\u001b[0msubplots\u001b[0m\u001b[0;34m(\u001b[0m\u001b[0;36m1\u001b[0m\u001b[0;34m,\u001b[0m\u001b[0;36m2\u001b[0m\u001b[0;34m)\u001b[0m\u001b[0;34m\u001b[0m\u001b[0;34m\u001b[0m\u001b[0m\n\u001b[1;32m      5\u001b[0m \u001b[0max1\u001b[0m\u001b[0;34m.\u001b[0m\u001b[0mimshow\u001b[0m\u001b[0;34m(\u001b[0m\u001b[0mImgC2\u001b[0m\u001b[0;34m)\u001b[0m\u001b[0;34m\u001b[0m\u001b[0;34m\u001b[0m\u001b[0m\n",
            "\u001b[0;32m/usr/local/lib/python3.10/dist-packages/scipy/io/matlab/_mio.py\u001b[0m in \u001b[0;36mloadmat\u001b[0;34m(file_name, mdict, appendmat, **kwargs)\u001b[0m\n\u001b[1;32m    224\u001b[0m     \u001b[0mvariable_names\u001b[0m \u001b[0;34m=\u001b[0m \u001b[0mkwargs\u001b[0m\u001b[0;34m.\u001b[0m\u001b[0mpop\u001b[0m\u001b[0;34m(\u001b[0m\u001b[0;34m'variable_names'\u001b[0m\u001b[0;34m,\u001b[0m \u001b[0;32mNone\u001b[0m\u001b[0;34m)\u001b[0m\u001b[0;34m\u001b[0m\u001b[0;34m\u001b[0m\u001b[0m\n\u001b[1;32m    225\u001b[0m     \u001b[0;32mwith\u001b[0m \u001b[0m_open_file_context\u001b[0m\u001b[0;34m(\u001b[0m\u001b[0mfile_name\u001b[0m\u001b[0;34m,\u001b[0m \u001b[0mappendmat\u001b[0m\u001b[0;34m)\u001b[0m \u001b[0;32mas\u001b[0m \u001b[0mf\u001b[0m\u001b[0;34m:\u001b[0m\u001b[0;34m\u001b[0m\u001b[0;34m\u001b[0m\u001b[0m\n\u001b[0;32m--> 226\u001b[0;31m         \u001b[0mMR\u001b[0m\u001b[0;34m,\u001b[0m \u001b[0m_\u001b[0m \u001b[0;34m=\u001b[0m \u001b[0mmat_reader_factory\u001b[0m\u001b[0;34m(\u001b[0m\u001b[0mf\u001b[0m\u001b[0;34m,\u001b[0m \u001b[0;34m**\u001b[0m\u001b[0mkwargs\u001b[0m\u001b[0;34m)\u001b[0m\u001b[0;34m\u001b[0m\u001b[0;34m\u001b[0m\u001b[0m\n\u001b[0m\u001b[1;32m    227\u001b[0m         \u001b[0mmatfile_dict\u001b[0m \u001b[0;34m=\u001b[0m \u001b[0mMR\u001b[0m\u001b[0;34m.\u001b[0m\u001b[0mget_variables\u001b[0m\u001b[0;34m(\u001b[0m\u001b[0mvariable_names\u001b[0m\u001b[0;34m)\u001b[0m\u001b[0;34m\u001b[0m\u001b[0;34m\u001b[0m\u001b[0m\n\u001b[1;32m    228\u001b[0m \u001b[0;34m\u001b[0m\u001b[0m\n",
            "\u001b[0;32m/usr/local/lib/python3.10/dist-packages/scipy/io/matlab/_mio.py\u001b[0m in \u001b[0;36mmat_reader_factory\u001b[0;34m(file_name, appendmat, **kwargs)\u001b[0m\n\u001b[1;32m     78\u001b[0m         \u001b[0;32mreturn\u001b[0m \u001b[0mMatFile5Reader\u001b[0m\u001b[0;34m(\u001b[0m\u001b[0mbyte_stream\u001b[0m\u001b[0;34m,\u001b[0m \u001b[0;34m**\u001b[0m\u001b[0mkwargs\u001b[0m\u001b[0;34m)\u001b[0m\u001b[0;34m,\u001b[0m \u001b[0mfile_opened\u001b[0m\u001b[0;34m\u001b[0m\u001b[0;34m\u001b[0m\u001b[0m\n\u001b[1;32m     79\u001b[0m     \u001b[0;32melif\u001b[0m \u001b[0mmjv\u001b[0m \u001b[0;34m==\u001b[0m \u001b[0;36m2\u001b[0m\u001b[0;34m:\u001b[0m\u001b[0;34m\u001b[0m\u001b[0;34m\u001b[0m\u001b[0m\n\u001b[0;32m---> 80\u001b[0;31m         raise NotImplementedError('Please use HDF reader for matlab v7.3 '\n\u001b[0m\u001b[1;32m     81\u001b[0m                                   'files, e.g. h5py')\n\u001b[1;32m     82\u001b[0m     \u001b[0;32melse\u001b[0m\u001b[0;34m:\u001b[0m\u001b[0;34m\u001b[0m\u001b[0;34m\u001b[0m\u001b[0m\n",
            "\u001b[0;31mNotImplementedError\u001b[0m: Please use HDF reader for matlab v7.3 files, e.g. h5py"
          ]
        }
      ]
    },
    {
      "cell_type": "code",
      "source": [
        "from tensorflow.keras import Model\n",
        "from tensorflow.keras.layers import Dense, Conv2D, Reshape, Concatenate, Flatten\n",
        "class MyModel(Model):\n",
        "  def __init__(self):\n",
        "    super().__init__()\n",
        "    self.conv1e=Conv2D(60, 3, activation='relu',padding='same')\n",
        "    self.conv1d=Conv2D(30, 3, activation='relu',padding='same')\n",
        "    self.conv0d=Conv2D(30, 1, padding='same')\n",
        "    self.conv2d=Conv2D(4, 1, padding='same')\n",
        "    self.flat=Flatten()\n",
        "    self.resh1=Reshape((64,64,60))\n",
        "    self.resh2=Reshape((16,16,4))\n",
        "    self.comb=Concatenate()\n",
        "    self.fcnn1e=Dense(16*16*4, activation='relu')\n",
        "    self.fcnn2e=Dense(200, activation='relu')\n",
        "    self.fcnn2d=Dense(16*16*4, activation='relu')\n",
        "    self.fcnn1d=Dense(64*64*60, activation='relu')\n",
        "\n",
        "  def call(self, x):\n",
        "    x1e = self.conv1e(x)\n",
        "    x1eF=self.flat(x1e)\n",
        "    x2eF=self.fcnn1e(x1eF)\n",
        "    x2e=self.resh2(x2eF)\n",
        "    x3eF=self.fcnn2e(x2eF)\n",
        "    x2dF=self.fcnn2d(x3eF)\n",
        "    x2d=self.resh2(x2dF)\n",
        "    x2dC=self.comb([x2e,x2d])\n",
        "    x2dC=self.conv2d(x2dC)\n",
        "    x2dCF=self.flat(x2dC)\n",
        "    x1dF=self.fcnn1d(x2dCF)\n",
        "    x1d=self.resh1(x1dF)\n",
        "    x1dC=self.comb([x1e,x1d])\n",
        "    x1dC=self.conv1d(x1dC)\n",
        "    y=self.conv0d(x1dC)\n",
        "    return y\n",
        "\n",
        "# Create an instance of the model\n",
        "model=MyModel()\n",
        "\n",
        "loss_object=tf.keras.losses.MeanSquaredError(name='MeanSqureLoss')\n",
        "optimizer=tf.keras.optimizers.Adam()\n",
        "\n",
        "train_loss=tf.keras.metrics.Mean(name='TrainLoss')\n",
        "test_loss=tf.keras.metrics.Mean(name='TestLoss')\n",
        "\n",
        "@tf.function\n",
        "def train_step(images, labels):\n",
        "  with tf.GradientTape() as tape:\n",
        "    pred=model(images,training=True)\n",
        "    loss=loss_object(labels,pred)\n",
        "  gradients=tape.gradient(loss, model.trainable_variables)\n",
        "  optimizer.apply_gradients(zip(gradients, model.trainable_variables))\n",
        "\n",
        "  train_loss(loss)\n",
        "\n",
        "@tf.function\n",
        "def test_step(images,labels):\n",
        "  pred=model(images,training=False)\n",
        "  loss=loss_object(labels,pred)\n",
        "  test_loss(loss)\n",
        "\n",
        "  #return pred"
      ],
      "metadata": {
        "id": "XdtVOxDZWbBB"
      },
      "execution_count": null,
      "outputs": []
    },
    {
      "cell_type": "code",
      "source": [
        "from scipy.io import savemat\n",
        "# import os\n",
        "\n",
        "# checkpointPath=\"/content/drive/MyDrive/aortaTrainingCheckpoint/model.ckpt\"\n",
        "# # os.listdir(os.path.dirname(checkpointPath))\n",
        "\n",
        "EPOCHS=5\n",
        "\n",
        "for epoch in range(EPOCHS):\n",
        "  train_loss.reset_states()\n",
        "  test_loss.reset_states()\n",
        "  for images, labels in train_ds:\n",
        "    #print([tf.shape(images),tf.shape(labels)])\n",
        "    train_step(images, labels)\n",
        "\n",
        "  for test_images, test_labels in test_ds:\n",
        "    #print([tf.shape(test_images),tf.shape(test_labels)])\n",
        "    pred=test_step(test_images, test_labels)\n",
        "\n",
        "  print(\n",
        "      f'Epoch {epoch + 1}. '\n",
        "      f'Loss: {train_loss.result()}, '\n",
        "      f'Test loss: {test_loss.result()}'\n",
        "  )\n",
        "\n",
        "pred=model(test_images,training=False)\n",
        "testMagC=test_images.numpy()\n",
        "testLabC=test_labels.numpy()\n",
        "testPred=pred.numpy()\n",
        "#print(testPred)\n",
        "matData={\"testMagC\":testMagC, \"testLabC\":testLabC, \"testPred\":testPred}\n",
        "savemat(\"/content/drive/MyDrive/test_results.mat\",matData)\n",
        "\n",
        "tf.saved_model.save(model,'/content/drive/MyDrive/aortaModel')\n",
        "\n"
      ],
      "metadata": {
        "colab": {
          "base_uri": "https://localhost:8080/",
          "height": 211
        },
        "id": "wLQe9_GQXCA5",
        "outputId": "f2ae185e-bbb0-4940-9777-cdda5b2d5e23"
      },
      "execution_count": null,
      "outputs": [
        {
          "output_type": "error",
          "ename": "NameError",
          "evalue": "name 'train_loss' is not defined",
          "traceback": [
            "\u001b[0;31m---------------------------------------------------------------------------\u001b[0m",
            "\u001b[0;31mNameError\u001b[0m                                 Traceback (most recent call last)",
            "\u001b[0;32m<ipython-input-1-6c4bb587acb1>\u001b[0m in \u001b[0;36m<cell line: 9>\u001b[0;34m()\u001b[0m\n\u001b[1;32m      8\u001b[0m \u001b[0;34m\u001b[0m\u001b[0m\n\u001b[1;32m      9\u001b[0m \u001b[0;32mfor\u001b[0m \u001b[0mepoch\u001b[0m \u001b[0;32min\u001b[0m \u001b[0mrange\u001b[0m\u001b[0;34m(\u001b[0m\u001b[0mEPOCHS\u001b[0m\u001b[0;34m)\u001b[0m\u001b[0;34m:\u001b[0m\u001b[0;34m\u001b[0m\u001b[0;34m\u001b[0m\u001b[0m\n\u001b[0;32m---> 10\u001b[0;31m   \u001b[0mtrain_loss\u001b[0m\u001b[0;34m.\u001b[0m\u001b[0mreset_states\u001b[0m\u001b[0;34m(\u001b[0m\u001b[0;34m)\u001b[0m\u001b[0;34m\u001b[0m\u001b[0;34m\u001b[0m\u001b[0m\n\u001b[0m\u001b[1;32m     11\u001b[0m   \u001b[0mtest_loss\u001b[0m\u001b[0;34m.\u001b[0m\u001b[0mreset_states\u001b[0m\u001b[0;34m(\u001b[0m\u001b[0;34m)\u001b[0m\u001b[0;34m\u001b[0m\u001b[0;34m\u001b[0m\u001b[0m\n\u001b[1;32m     12\u001b[0m   \u001b[0;32mfor\u001b[0m \u001b[0mimages\u001b[0m\u001b[0;34m,\u001b[0m \u001b[0mlabels\u001b[0m \u001b[0;32min\u001b[0m \u001b[0mtrain_ds\u001b[0m\u001b[0;34m:\u001b[0m\u001b[0;34m\u001b[0m\u001b[0;34m\u001b[0m\u001b[0m\n",
            "\u001b[0;31mNameError\u001b[0m: name 'train_loss' is not defined"
          ]
        }
      ]
    },
    {
      "cell_type": "code",
      "source": [
        "##tf.saved_model.save(model,'/content/drive/MyDrive/aortaModel')\n",
        "\n",
        "# tf.saved_model.load('/content/drive/MyDrive/aortaModel')\n",
        "# pred=model(test_images,training=False)\n",
        "# testMagC=test_images.numpy()\n",
        "# testLabC=test_labels.numpy()\n",
        "# testPred=pred.numpy()\n",
        "# #print(testPred)\n",
        "# matData={\"testMagC\":testMagC, \"testLabC\":testLabC, \"testPred\":testPred}\n",
        "# savemat(\"/content/drive/MyDrive/test_results2.mat\",matData)\n",
        "%pip list"
      ],
      "metadata": {
        "id": "jNQEs_6Dg9Tl"
      },
      "execution_count": null,
      "outputs": []
    }
  ]
}
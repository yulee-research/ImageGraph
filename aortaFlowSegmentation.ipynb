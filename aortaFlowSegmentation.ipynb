{
  "nbformat": 4,
  "nbformat_minor": 0,
  "metadata": {
    "colab": {
      "provenance": [],
      "gpuType": "T4",
      "mount_file_id": "15SWvuUBO3BVJdLTDZWJa2EjEnRrL5MqR",
      "authorship_tag": "ABX9TyM/1N9SFqLe2Qiv3SRqGnte",
      "include_colab_link": true
    },
    "kernelspec": {
      "name": "python3",
      "display_name": "Python 3"
    },
    "language_info": {
      "name": "python"
    },
    "accelerator": "GPU"
  },
  "cells": [
    {
      "cell_type": "markdown",
      "metadata": {
        "id": "view-in-github",
        "colab_type": "text"
      },
      "source": [
        "<a href=\"https://colab.research.google.com/github/yulee-research/ImageGraph/blob/main/aortaFlowSegmentation.ipynb\" target=\"_parent\"><img src=\"https://colab.research.google.com/assets/colab-badge.svg\" alt=\"Open In Colab\"/></a>"
      ]
    },
    {
      "cell_type": "code",
      "execution_count": null,
      "metadata": {
        "colab": {
          "base_uri": "https://localhost:8080/"
        },
        "id": "0bLbRJlQeaav",
        "outputId": "63f1edd9-e431-4998-f5fb-83c629a168c5"
      },
      "outputs": [
        {
          "output_type": "stream",
          "name": "stdout",
          "text": [
            "[<tf.Tensor: shape=(4,), dtype=int32, numpy=array([30, 64, 64, 30], dtype=int32)>, <tf.Tensor: shape=(4,), dtype=int32, numpy=array([30, 64, 64, 30], dtype=int32)>]\n",
            "[<tf.Tensor: shape=(4,), dtype=int32, numpy=array([30, 64, 64, 30], dtype=int32)>, <tf.Tensor: shape=(4,), dtype=int32, numpy=array([30, 64, 64, 30], dtype=int32)>]\n",
            "[<tf.Tensor: shape=(4,), dtype=int32, numpy=array([30, 64, 64, 30], dtype=int32)>, <tf.Tensor: shape=(4,), dtype=int32, numpy=array([30, 64, 64, 30], dtype=int32)>]\n",
            "[<tf.Tensor: shape=(4,), dtype=int32, numpy=array([30, 64, 64, 30], dtype=int32)>, <tf.Tensor: shape=(4,), dtype=int32, numpy=array([30, 64, 64, 30], dtype=int32)>]\n",
            "[<tf.Tensor: shape=(4,), dtype=int32, numpy=array([30, 64, 64, 30], dtype=int32)>, <tf.Tensor: shape=(4,), dtype=int32, numpy=array([30, 64, 64, 30], dtype=int32)>]\n",
            "[<tf.Tensor: shape=(4,), dtype=int32, numpy=array([30, 64, 64, 30], dtype=int32)>, <tf.Tensor: shape=(4,), dtype=int32, numpy=array([30, 64, 64, 30], dtype=int32)>]\n",
            "[<tf.Tensor: shape=(4,), dtype=int32, numpy=array([30, 64, 64, 30], dtype=int32)>, <tf.Tensor: shape=(4,), dtype=int32, numpy=array([30, 64, 64, 30], dtype=int32)>]\n",
            "[<tf.Tensor: shape=(4,), dtype=int32, numpy=array([30, 64, 64, 30], dtype=int32)>, <tf.Tensor: shape=(4,), dtype=int32, numpy=array([30, 64, 64, 30], dtype=int32)>]\n",
            "[<tf.Tensor: shape=(4,), dtype=int32, numpy=array([30, 64, 64, 30], dtype=int32)>, <tf.Tensor: shape=(4,), dtype=int32, numpy=array([30, 64, 64, 30], dtype=int32)>]\n",
            "[<tf.Tensor: shape=(4,), dtype=int32, numpy=array([30, 64, 64, 30], dtype=int32)>, <tf.Tensor: shape=(4,), dtype=int32, numpy=array([30, 64, 64, 30], dtype=int32)>]\n",
            "[<tf.Tensor: shape=(4,), dtype=int32, numpy=array([30, 64, 64, 30], dtype=int32)>, <tf.Tensor: shape=(4,), dtype=int32, numpy=array([30, 64, 64, 30], dtype=int32)>]\n",
            "[<tf.Tensor: shape=(4,), dtype=int32, numpy=array([21, 64, 64, 30], dtype=int32)>, <tf.Tensor: shape=(4,), dtype=int32, numpy=array([21, 64, 64, 30], dtype=int32)>]\n"
          ]
        }
      ],
      "source": [
        "from scipy.io import loadmat\n",
        "import matplotlib.pyplot as plt\n",
        "import numpy as np\n",
        "import tensorflow as tf\n",
        "\n",
        "aortaData=loadmat('/content/drive/MyDrive/aortaFlowDcmData.mat')\n",
        "# print(aortaData['roiMagC1'].astype(float).dtype)\n",
        "\n",
        "# roiMagC=np.zeros((371,64,64,30))\n",
        "# roiPhaC=np.zeros((371,64,64,30))\n",
        "# roiMask=np.zeros((371,64,64,30))\n",
        "\n",
        "roiMagC=tf.convert_to_tensor(np.transpose(np.concatenate((aortaData['roiMagC1'],aortaData['roiMagC2']),axis=3),(3,0,1,2)),dtype=tf.float32)\n",
        "roiPhaC=tf.convert_to_tensor(np.transpose(np.concatenate((aortaData['roiPhaC1'],aortaData['roiPhaC2']),axis=3),(3,0,1,2)),dtype=tf.float32)\n",
        "roiMask=tf.convert_to_tensor(np.transpose(np.concatenate((aortaData['roiMask1'],aortaData['roiMask2']),axis=3),(3,0,1,2)),dtype=tf.float32)\n",
        "\n",
        "# print([roiMagC.shape,roiPhaC.shape,roiMask.shape])\n",
        "# plt.imshow(roiMask[:,:,10,100],cmap='gray')\n",
        "\n",
        "train_ds=tf.data.Dataset.from_tensor_slices((roiMagC[0:351,:,:,:],roiPhaC[0:351,:,:,:])).shuffle(100).batch(30)\n",
        "test_ds=tf.data.Dataset.from_tensor_slices((roiMagC[351:,:,:,:],roiPhaC[351:,:,:,:])).batch(20)\n",
        "\n",
        "for images,labels in train_ds:\n",
        "  print([tf.shape(images),tf.shape(labels)])"
      ]
    },
    {
      "cell_type": "code",
      "source": [
        "from tensorflow.keras import Model\n",
        "from tensorflow.keras.layers import Dense, Conv2D, Reshape, Concatenate, Flatten\n",
        "class MyModel(Model):\n",
        "  def __init__(self):\n",
        "    super().__init__()\n",
        "    self.conv1e=Conv2D(60, 3, activation='relu',padding='same')\n",
        "    self.conv1d=Conv2D(30, 3, activation='relu',padding='same')\n",
        "    self.conv0d=Conv2D(30, 1, padding='same')\n",
        "    self.conv2d=Conv2D(4, 1, padding='same')\n",
        "    self.flat=Flatten()\n",
        "    self.resh1=Reshape((64,64,60))\n",
        "    self.resh2=Reshape((16,16,4))\n",
        "    self.comb=Concatenate()\n",
        "    self.fcnn1e=Dense(16*16*4, activation='relu')\n",
        "    self.fcnn2e=Dense(200, activation='relu')\n",
        "    self.fcnn2d=Dense(16*16*4, activation='relu')\n",
        "    self.fcnn1d=Dense(64*64*60, activation='relu')\n",
        "\n",
        "  def call(self, x):\n",
        "    x1e = self.conv1e(x)\n",
        "    x1eF=self.flat(x1e)\n",
        "    x2eF=self.fcnn1e(x1eF)\n",
        "    x2e=self.resh2(x2eF)\n",
        "    x3eF=self.fcnn2e(x2eF)\n",
        "    x2dF=self.fcnn2d(x3eF)\n",
        "    x2d=self.resh2(x2dF)\n",
        "    x2dC=self.comb([x2e,x2d])\n",
        "    x2dC=self.conv2d(x2dC)\n",
        "    x2dCF=self.flat(x2dC)\n",
        "    x1dF=self.fcnn1d(x2dCF)\n",
        "    x1d=self.resh1(x1dF)\n",
        "    x1dC=self.comb([x1e,x1d])\n",
        "    x1dC=self.conv1d(x1dC)\n",
        "    y=self.conv0d(x1dC)\n",
        "    return y\n",
        "\n",
        "# Create an instance of the model\n",
        "model=MyModel()\n",
        "\n",
        "loss_object=tf.keras.losses.MeanSquaredError(name='MeanSqureLoss')\n",
        "optimizer=tf.keras.optimizers.Adam()\n",
        "\n",
        "train_loss=tf.keras.metrics.Mean(name='TrainLoss')\n",
        "test_loss=tf.keras.metrics.Mean(name='TestLoss')\n",
        "\n",
        "@tf.function\n",
        "def train_step(images, labels):\n",
        "  with tf.GradientTape() as tape:\n",
        "    pred=model(images,training=True)\n",
        "    loss=loss_object(labels,pred)\n",
        "  gradients=tape.gradient(loss, model.trainable_variables)\n",
        "  optimizer.apply_gradients(zip(gradients, model.trainable_variables))\n",
        "\n",
        "  train_loss(loss)\n",
        "\n",
        "@tf.function\n",
        "def test_step(images,labels):\n",
        "  pred=model(images,training=False)\n",
        "  loss=loss_object(labels,pred)\n",
        "  test_loss(loss)\n",
        "\n",
        "  #return pred"
      ],
      "metadata": {
        "id": "XdtVOxDZWbBB"
      },
      "execution_count": null,
      "outputs": []
    },
    {
      "cell_type": "code",
      "source": [
        "from scipy.io import savemat\n",
        "# import os\n",
        "\n",
        "# checkpointPath=\"/content/drive/MyDrive/aortaTrainingCheckpoint/model.ckpt\"\n",
        "# # os.listdir(os.path.dirname(checkpointPath))\n",
        "\n",
        "EPOCHS=5\n",
        "\n",
        "for epoch in range(EPOCHS):\n",
        "  train_loss.reset_states()\n",
        "  test_loss.reset_states()\n",
        "  for images, labels in train_ds:\n",
        "    #print([tf.shape(images),tf.shape(labels)])\n",
        "    train_step(images, labels)\n",
        "\n",
        "  for test_images, test_labels in test_ds:\n",
        "    #print([tf.shape(test_images),tf.shape(test_labels)])\n",
        "    pred=test_step(test_images, test_labels)\n",
        "\n",
        "  print(\n",
        "      f'Epoch {epoch + 1}. '\n",
        "      f'Loss: {train_loss.result()}, '\n",
        "      f'Test loss: {test_loss.result()}'\n",
        "  )\n",
        "\n",
        "pred=model(test_images,training=False)\n",
        "testMagC=test_images.numpy()\n",
        "testLabC=test_labels.numpy()\n",
        "testPred=pred.numpy()\n",
        "#print(testPred)\n",
        "matData={\"testMagC\":testMagC, \"testLabC\":testLabC, \"testPred\":testPred}\n",
        "savemat(\"/content/drive/MyDrive/test_results.mat\",matData)\n",
        "\n",
        "tf.saved_model.save(model,'/content/drive/MyDrive/aortaModel')\n",
        "\n"
      ],
      "metadata": {
        "colab": {
          "base_uri": "https://localhost:8080/",
          "height": 211
        },
        "id": "wLQe9_GQXCA5",
        "outputId": "f2ae185e-bbb0-4940-9777-cdda5b2d5e23"
      },
      "execution_count": null,
      "outputs": [
        {
          "output_type": "error",
          "ename": "NameError",
          "evalue": "name 'train_loss' is not defined",
          "traceback": [
            "\u001b[0;31m---------------------------------------------------------------------------\u001b[0m",
            "\u001b[0;31mNameError\u001b[0m                                 Traceback (most recent call last)",
            "\u001b[0;32m<ipython-input-1-6c4bb587acb1>\u001b[0m in \u001b[0;36m<cell line: 9>\u001b[0;34m()\u001b[0m\n\u001b[1;32m      8\u001b[0m \u001b[0;34m\u001b[0m\u001b[0m\n\u001b[1;32m      9\u001b[0m \u001b[0;32mfor\u001b[0m \u001b[0mepoch\u001b[0m \u001b[0;32min\u001b[0m \u001b[0mrange\u001b[0m\u001b[0;34m(\u001b[0m\u001b[0mEPOCHS\u001b[0m\u001b[0;34m)\u001b[0m\u001b[0;34m:\u001b[0m\u001b[0;34m\u001b[0m\u001b[0;34m\u001b[0m\u001b[0m\n\u001b[0;32m---> 10\u001b[0;31m   \u001b[0mtrain_loss\u001b[0m\u001b[0;34m.\u001b[0m\u001b[0mreset_states\u001b[0m\u001b[0;34m(\u001b[0m\u001b[0;34m)\u001b[0m\u001b[0;34m\u001b[0m\u001b[0;34m\u001b[0m\u001b[0m\n\u001b[0m\u001b[1;32m     11\u001b[0m   \u001b[0mtest_loss\u001b[0m\u001b[0;34m.\u001b[0m\u001b[0mreset_states\u001b[0m\u001b[0;34m(\u001b[0m\u001b[0;34m)\u001b[0m\u001b[0;34m\u001b[0m\u001b[0;34m\u001b[0m\u001b[0m\n\u001b[1;32m     12\u001b[0m   \u001b[0;32mfor\u001b[0m \u001b[0mimages\u001b[0m\u001b[0;34m,\u001b[0m \u001b[0mlabels\u001b[0m \u001b[0;32min\u001b[0m \u001b[0mtrain_ds\u001b[0m\u001b[0;34m:\u001b[0m\u001b[0;34m\u001b[0m\u001b[0;34m\u001b[0m\u001b[0m\n",
            "\u001b[0;31mNameError\u001b[0m: name 'train_loss' is not defined"
          ]
        }
      ]
    },
    {
      "cell_type": "code",
      "source": [
        "##tf.saved_model.save(model,'/content/drive/MyDrive/aortaModel')\n",
        "\n",
        "# tf.saved_model.load('/content/drive/MyDrive/aortaModel')\n",
        "# pred=model(test_images,training=False)\n",
        "# testMagC=test_images.numpy()\n",
        "# testLabC=test_labels.numpy()\n",
        "# testPred=pred.numpy()\n",
        "# #print(testPred)\n",
        "# matData={\"testMagC\":testMagC, \"testLabC\":testLabC, \"testPred\":testPred}\n",
        "# savemat(\"/content/drive/MyDrive/test_results2.mat\",matData)\n",
        "%pip list"
      ],
      "metadata": {
        "id": "jNQEs_6Dg9Tl"
      },
      "execution_count": null,
      "outputs": []
    }
  ]
}